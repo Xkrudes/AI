{
  "metadata": {
    "language_info": {
      "codemirror_mode": {
        "name": "python",
        "version": 3
      },
      "file_extension": ".py",
      "mimetype": "text/x-python",
      "name": "python",
      "nbconvert_exporter": "python",
      "pygments_lexer": "ipython3",
      "version": "3.8"
    },
    "kernelspec": {
      "name": "python",
      "display_name": "Python (Pyodide)",
      "language": "python"
    }
  },
  "nbformat_minor": 4,
  "nbformat": 4,
  "cells": [
    {
      "cell_type": "code",
      "source": "\"\"\"Задание 1.3.1 Р/т №2\"\"\"\nimport numpy as np\n\narray = np.zeros((10,10))\narray[::2, ::2] = 1\narray[1::2, 1::2] = 1\nprint(array)",
      "metadata": {
        "trusted": true
      },
      "execution_count": 6,
      "outputs": [
        {
          "name": "stdout",
          "text": "[[1. 0. 1. 0. 1. 0. 1. 0. 1. 0.]\n [0. 1. 0. 1. 0. 1. 0. 1. 0. 1.]\n [1. 0. 1. 0. 1. 0. 1. 0. 1. 0.]\n [0. 1. 0. 1. 0. 1. 0. 1. 0. 1.]\n [1. 0. 1. 0. 1. 0. 1. 0. 1. 0.]\n [0. 1. 0. 1. 0. 1. 0. 1. 0. 1.]\n [1. 0. 1. 0. 1. 0. 1. 0. 1. 0.]\n [0. 1. 0. 1. 0. 1. 0. 1. 0. 1.]\n [1. 0. 1. 0. 1. 0. 1. 0. 1. 0.]\n [0. 1. 0. 1. 0. 1. 0. 1. 0. 1.]]\n",
          "output_type": "stream"
        }
      ]
    },
    {
      "cell_type": "code",
      "source": "\"\"\"Задание 1.3.2 Р/т №2\"\"\"\nimport numpy as np\n\narray = np.zeros((5, 5))\narray[::, ::] = np.arange(0, 5)\nprint(array)",
      "metadata": {
        "trusted": true
      },
      "execution_count": 9,
      "outputs": [
        {
          "name": "stdout",
          "text": "[[0. 1. 2. 3. 4.]\n [0. 1. 2. 3. 4.]\n [0. 1. 2. 3. 4.]\n [0. 1. 2. 3. 4.]\n [0. 1. 2. 3. 4.]]\n",
          "output_type": "stream"
        }
      ]
    },
    {
      "cell_type": "code",
      "source": "\"\"\"Задание 1.3.3 Р/т №2\"\"\"\nimport numpy as np\n\narray = np.random.random((3, 3, 3))\nprint(array)",
      "metadata": {
        "trusted": true
      },
      "execution_count": 10,
      "outputs": [
        {
          "name": "stdout",
          "text": "[[[0.42857248 0.41996726 0.61864638]\n  [0.51677587 0.85608067 0.40513955]\n  [0.10267609 0.42202458 0.98272868]]\n\n [[0.61193113 0.14612973 0.12857492]\n  [0.66331751 0.49679069 0.74023934]\n  [0.86611741 0.7761596  0.97241135]]\n\n [[0.07831752 0.76392549 0.69915404]\n  [0.99416972 0.02096552 0.65550998]\n  [0.94914803 0.5320406  0.5024433 ]]]\n",
          "output_type": "stream"
        }
      ]
    },
    {
      "cell_type": "code",
      "source": "\"\"\"Задание 1.3.4 Р/т №2\"\"\"\nimport numpy as np\n\narray = np.zeros((5, 5))\narray[0, ::] = 1\narray[::, 0] = 1\narray[::, -1] = 1\narray[-1, ::] = 1\nprint(array)",
      "metadata": {
        "trusted": true
      },
      "execution_count": 12,
      "outputs": [
        {
          "name": "stdout",
          "text": "[[1. 1. 1. 1. 1.]\n [1. 0. 0. 0. 1.]\n [1. 0. 0. 0. 1.]\n [1. 0. 0. 0. 1.]\n [1. 1. 1. 1. 1.]]\n",
          "output_type": "stream"
        }
      ]
    },
    {
      "cell_type": "code",
      "source": "\"\"\"Задание 1.3.5 Р/т №2\"\"\"\nimport numpy as np\n\narray = np.array([3, 5, 2, 7, 1, 4, 6])\nprint(np.sort(array)[::-1])",
      "metadata": {
        "trusted": true
      },
      "execution_count": 14,
      "outputs": [
        {
          "name": "stdout",
          "text": "[7 6 5 4 3 2 1]\n",
          "output_type": "stream"
        }
      ]
    },
    {
      "cell_type": "code",
      "source": "\"\"\"Задание 1.3.5 Р/т №2\"\"\"\nimport numpy as np\n\narray = np.zeros((5, 4))\n\nprint(array.shape, '\\n',array.size, '\\n',array.ndim)",
      "metadata": {
        "trusted": true
      },
      "execution_count": 16,
      "outputs": [
        {
          "name": "stdout",
          "text": "(5, 4) \n 20 \n 2\n",
          "output_type": "stream"
        }
      ]
    },
    {
      "cell_type": "code",
      "source": "",
      "metadata": {},
      "execution_count": null,
      "outputs": []
    }
  ]
}